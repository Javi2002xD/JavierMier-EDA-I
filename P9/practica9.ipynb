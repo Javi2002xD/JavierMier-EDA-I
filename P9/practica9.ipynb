{
 "cells": [
  {
   "cell_type": "markdown",
   "id": "0b392228",
   "metadata": {},
   "source": [
    "<h1>Práctica 9, Introducción al lenguaje de programación python<h1>\n",
    "    <h2>1.-Variables y tipos<h2>"
   ]
  },
  {
   "cell_type": "code",
   "execution_count": 2,
   "id": "ab17c2e3",
   "metadata": {},
   "outputs": [
    {
     "name": "stdout",
     "output_type": "stream",
     "text": [
      "10\n",
      "Hola Mundo\n"
     ]
    }
   ],
   "source": [
    "#inicializando variables \n",
    "x=10 #variable de tipo entero\n",
    "print(x) #funcion para imprimir los valores de las variables \n",
    "\n",
    "#se puede utilizar comillas dobles para crear cadenas\n",
    "cadena = \"Hola Mundo\"\n",
    "print(cadena)"
   ]
  },
  {
   "cell_type": "code",
   "execution_count": 4,
   "id": "489f91ec",
   "metadata": {},
   "outputs": [
    {
     "name": "stdout",
     "output_type": "stream",
     "text": [
      "10 10 10\n"
     ]
    }
   ],
   "source": [
    "#Asigna un mismo valor a las tres variables \n",
    "x = y = z = 10\n",
    "print(x, y, z)"
   ]
  },
  {
   "cell_type": "code",
   "execution_count": 5,
   "id": "cd28a2ca",
   "metadata": {},
   "outputs": [
    {
     "data": {
      "text/plain": [
       "int"
      ]
     },
     "execution_count": 5,
     "metadata": {},
     "output_type": "execute_result"
    }
   ],
   "source": [
    "#La función type() permite conocer el tipo de una varible\n",
    "type(x)"
   ]
  },
  {
   "cell_type": "code",
   "execution_count": 6,
   "id": "a7011d61",
   "metadata": {},
   "outputs": [
    {
     "data": {
      "text/plain": [
       "str"
      ]
     },
     "execution_count": 6,
     "metadata": {},
     "output_type": "execute_result"
    }
   ],
   "source": [
    "type(cadena)"
   ]
  },
  {
   "cell_type": "code",
   "execution_count": 7,
   "id": "b8044ea9",
   "metadata": {},
   "outputs": [],
   "source": [
    "#Se puede cambiar los valores de las variables y el tipo se cambia automaticamente\n",
    "x = \"Hola mundo\"\n",
    "cadena = 10"
   ]
  },
  {
   "cell_type": "code",
   "execution_count": 8,
   "id": "22741803",
   "metadata": {},
   "outputs": [
    {
     "data": {
      "text/plain": [
       "str"
      ]
     },
     "execution_count": 8,
     "metadata": {},
     "output_type": "execute_result"
    }
   ],
   "source": [
    "type(x)"
   ]
  },
  {
   "cell_type": "code",
   "execution_count": 9,
   "id": "47ebc024",
   "metadata": {},
   "outputs": [
    {
     "data": {
      "text/plain": [
       "int"
      ]
     },
     "execution_count": 9,
     "metadata": {},
     "output_type": "execute_result"
    }
   ],
   "source": [
    "type(cadena)"
   ]
  },
  {
   "cell_type": "code",
   "execution_count": 10,
   "id": "5ea7bee0",
   "metadata": {},
   "outputs": [],
   "source": [
    "#Cuando una variable tiene un valor constante, por convencion, el nombre se escribe en mayuscuas \n",
    "SEGUNDOS_POR_DIA = 60 * 60 * 24\n",
    "PI = 3.14"
   ]
  },
  {
   "cell_type": "markdown",
   "id": "19c8a6be",
   "metadata": {},
   "source": [
    "<h2>2.-Cadenas<h2>"
   ]
  },
  {
   "cell_type": "code",
   "execution_count": 3,
   "id": "e44a3b8e",
   "metadata": {},
   "outputs": [
    {
     "name": "stdout",
     "output_type": "stream",
     "text": [
      "Hola\n",
      "Mundo\n",
      "HolaMundo\n"
     ]
    }
   ],
   "source": [
    "#Inicializando cadenas \n",
    "cadena1 = 'Hola'\n",
    "cadena2 = \"Mundo\"\n",
    "print(cadena1)\n",
    "print(cadena2)\n",
    "concat_cadenas = cadena1 + cadena2 #Concatenacion de cadenas \n",
    "print(concat_cadenas)"
   ]
  },
  {
   "cell_type": "code",
   "execution_count": 13,
   "id": "90cf89b0",
   "metadata": {},
   "outputs": [
    {
     "name": "stdout",
     "output_type": "stream",
     "text": [
      "HolaMundo 3\n"
     ]
    }
   ],
   "source": [
    "#Para concatenar un número y una cadena se debe usar la función str(\n",
    "num_cadena = concat_cadenas +' '+ str(3)\n",
    "print(num_cadena)"
   ]
  },
  {
   "cell_type": "code",
   "execution_count": 15,
   "id": "68213bc6",
   "metadata": {},
   "outputs": [
    {
     "name": "stdout",
     "output_type": "stream",
     "text": [
      "Hola Mundo 3\n"
     ]
    }
   ],
   "source": [
    "    #El valor de la variable se va a imprimir en el lugar donde se encuentre {} en la cadena \n",
    "    num_cadena = \"{} {} {}\". format(cadena1, cadena2, 3)\n",
    "    print(num_cadena)"
   ]
  },
  {
   "cell_type": "code",
   "execution_count": 16,
   "id": "ea660226",
   "metadata": {},
   "outputs": [
    {
     "name": "stdout",
     "output_type": "stream",
     "text": [
      "Cambiando el orden: Mundo 3 Hola #\n"
     ]
    }
   ],
   "source": [
    "#Cuando se agrega un numero dentro de {#}, el valor la varable se encuentra en esa posicion\n",
    "#dentro de la funcioin format(), será impreso.\n",
    "num_cadena = \"Cambiando el orden: {1} {2} {0} #\".format(cadena1, cadena2, 3)\n",
    "print(num_cadena)"
   ]
  },
  {
   "cell_type": "markdown",
   "id": "2b9aad42",
   "metadata": {},
   "source": [
    "<h2>Operadores<h2>"
   ]
  },
  {
   "cell_type": "code",
   "execution_count": 17,
   "id": "daac41ae",
   "metadata": {},
   "outputs": [
    {
     "name": "stdout",
     "output_type": "stream",
     "text": [
      "6\n",
      "18\n",
      "6\n",
      "2.0\n",
      "0\n",
      "7.2\n",
      "4\n"
     ]
    }
   ],
   "source": [
    "#Para el exponente se puede utilizar el asterisco\n",
    "print(1 + 5)\n",
    "print(6 * 3)\n",
    "print(10 - 4)\n",
    "print(100 / 50)\n",
    "print(10 % 2)\n",
    "print(((20 * 3)+(10 +2)) / 10)\n",
    "print(2**2)"
   ]
  },
  {
   "cell_type": "code",
   "execution_count": 18,
   "id": "06c72d44",
   "metadata": {},
   "outputs": [
    {
     "data": {
      "text/plain": [
       "False"
      ]
     },
     "execution_count": 18,
     "metadata": {},
     "output_type": "execute_result"
    }
   ],
   "source": [
    "False and True #Boleanos: and, not, or "
   ]
  },
  {
   "cell_type": "code",
   "execution_count": 19,
   "id": "94c2590f",
   "metadata": {},
   "outputs": [
    {
     "name": "stdout",
     "output_type": "stream",
     "text": [
      "False\n",
      "True\n",
      "False\n",
      "False\n",
      "True\n"
     ]
    }
   ],
   "source": [
    "#Comparación: >, <, >=, <=, ==\n",
    "print(7 < 5) #falso\n",
    "print(7 > 5) #verdadero\n",
    "print((11 * 3) + 2 == 63 + 1 )#verdadero\n",
    "print((11 * 3) + 2 >= 36)#Falso\n",
    "print(\"Curso\" != \"CuRsO\")#verdadero"
   ]
  },
  {
   "cell_type": "markdown",
   "id": "cd97c044",
   "metadata": {},
   "source": [
    "<h2>Listas<h2>"
   ]
  },
  {
   "cell_type": "code",
   "execution_count": 20,
   "id": "76baeadd",
   "metadata": {},
   "outputs": [
    {
     "name": "stdout",
     "output_type": "stream",
     "text": [
      "[31, 28, 31, 30, 31, 30, 31, 31, 30, 31, 30, 31]\n",
      "31\n",
      "31\n",
      "31\n"
     ]
    }
   ],
   "source": [
    "#Declaración de na lista simple \n",
    "lista_diasDelMes = [31, 28, 31, 30, 31, 30, 31, 31, 30, 31, 30, 31]\n",
    "print(lista_diasDelMes)   #Imprimir la lista completa\n",
    "print(lista_diasDelMes[0])#imprimir el elemento 1\n",
    "print(lista_diasDelMes[6])#imprimir el elemento 7\n",
    "print(lista_diasDelMes[11])#imprimir el elemento 12"
   ]
  },
  {
   "cell_type": "code",
   "execution_count": 21,
   "id": "57e0f81d",
   "metadata": {},
   "outputs": [
    {
     "name": "stdout",
     "output_type": "stream",
     "text": [
      "[['cero', 0], ['uno', 1, 'UNO'], ['dos', 2], ['tres', 3], ['cuatro', 4], ['X', 5]]\n",
      "['cero', 0]\n",
      "['uno', 1, 'UNO']\n",
      "dos\n",
      "2\n",
      "uno\n",
      "1\n",
      "UNO\n"
     ]
    }
   ],
   "source": [
    "#DEclaración de listas anidadas \n",
    "lista_numeros=[['cero', 0],['uno',1, 'UNO'], ['dos', 2], ['tres', 3], ['cuatro', 4], ['X', 5]]\n",
    "\n",
    "print(lista_numeros)    #Imprimir lista completa\n",
    "\n",
    "print(lista_numeros[0])  #imprime el elemento cero de la lista\n",
    "print(lista_numeros[1])   #imprime el elemento 1 de la lista\n",
    "\n",
    "print(lista_numeros[2][0])  #imprime el primer elemento de la lista en la posicion dos \n",
    "print(lista_numeros[2][1])   #imprime el segundo elemento de la lista en la poscicon dos \n",
    "\n",
    "print(lista_numeros[1][0])\n",
    "print(lista_numeros[1][1])\n",
    "print(lista_numeros[1][2])"
   ]
  },
  {
   "cell_type": "code",
   "execution_count": 22,
   "id": "c266669b",
   "metadata": {},
   "outputs": [
    {
     "name": "stdout",
     "output_type": "stream",
     "text": [
      "['cinco', 5]\n"
     ]
    }
   ],
   "source": [
    "#Se cambia el valor de uno de los elementos de la lista \n",
    "\n",
    "lista_numeros[5][0] = \"cinco\"\n",
    "print(lista_numeros[5])"
   ]
  },
  {
   "cell_type": "markdown",
   "id": "6cfabcfe",
   "metadata": {},
   "source": [
    "<h2>Tuplas<h2>\n",
    "              "
   ]
  },
  {
   "cell_type": "code",
   "execution_count": 23,
   "id": "100357a8",
   "metadata": {},
   "outputs": [
    {
     "name": "stdout",
     "output_type": "stream",
     "text": [
      "(31, 28, 31, 30, 31, 30, 31, 31, 30, 31, 30, 31)\n",
      "31\n",
      "30\n",
      "28\n"
     ]
    }
   ],
   "source": [
    "#Declaración de una tupla\n",
    "tupla_diasDelMes = (31, 28, 31, 30, 31, 30, 31, 31, 30, 31, 30, 31)\n",
    "print(tupla_diasDelMes)  #imprimir la tupla completa\n",
    "print(tupla_diasDelMes[0]) #imprimir el elemento 1\n",
    "print(tupla_diasDelMes[3]) #imprimir el elemento 4\n",
    "print(tupla_diasDelMes[1]) #imprimir el elemento 2"
   ]
  },
  {
   "cell_type": "code",
   "execution_count": 24,
   "id": "7182db8c",
   "metadata": {},
   "outputs": [
    {
     "name": "stdout",
     "output_type": "stream",
     "text": [
      "(('cero', 0), ('uno', 1, 'UNO'), ('dos', 2), ('tres', 3), ('cuatro', 4), ('X', 5))\n",
      "('cero', 0)\n",
      "('uno', 1, 'UNO')\n",
      "dos\n",
      "2\n",
      "uno\n",
      "1\n",
      "UNO\n"
     ]
    }
   ],
   "source": [
    "#Declaracion de tuplas anidadas\n",
    "tupla_numeros=(('cero', 0),('uno',1, 'UNO'), ('dos', 2), ('tres', 3), ('cuatro', 4), ('X', 5))\n",
    "print(tupla_numeros) #imprimir tupla completa \n",
    "\n",
    "print(tupla_numeros[0]) #imprime el elemento 0 de la tupla\n",
    "print(tupla_numeros[1]) #imprime el elemento 1 de la tupla\n",
    "\n",
    "print(tupla_numeros[2][0]) #imprime el primer elemento de la tupla en la posicion dos\n",
    "print(tupla_numeros[2][1]) #imprime el segundo elemento de la tupla en la posicion dos\n",
    "\n",
    "print(tupla_numeros[1][0])\n",
    "print(tupla_numeros[1][1])\n",
    "print(tupla_numeros[1][2])"
   ]
  },
  {
   "cell_type": "code",
   "execution_count": 25,
   "id": "0443b1eb",
   "metadata": {},
   "outputs": [
    {
     "ename": "SyntaxError",
     "evalue": "leading zeros in decimal integer literals are not permitted; use an 0o prefix for octal integers (904370790.py, line 5)",
     "output_type": "error",
     "traceback": [
      "\u001b[0;36m  Cell \u001b[0;32mIn[25], line 5\u001b[0;36m\u001b[0m\n\u001b[0;31m    tupla_diaDelMes[0]050 #Esta asignacion manda un error, ya que no se puede cambiar los valores\u001b[0m\n\u001b[0m                      ^\u001b[0m\n\u001b[0;31mSyntaxError\u001b[0m\u001b[0;31m:\u001b[0m leading zeros in decimal integer literals are not permitted; use an 0o prefix for octal integers\n"
     ]
    }
   ],
   "source": [
    "# Probando la mutabilidad de las listas vs la no mutabilidad de las tuplas\n",
    "print(\"valor actual {}\".format(lista_diaDelMes[0]))\n",
    "lista_diaDelMes[0]=50\n",
    "print(\"valor cambiado {}\".format(lista_diaDelMes[0]))\n",
    "tupla_diaDelMes[0]050 #Esta asignacion manda un error, ya que no se puede cambiar los valores "
   ]
  },
  {
   "cell_type": "markdown",
   "id": "89af58b9",
   "metadata": {},
   "source": [
    "<h2>Tupla con nombre<h2>"
   ]
  },
  {
   "cell_type": "code",
   "execution_count": 28,
   "id": "bd68d568",
   "metadata": {},
   "outputs": [
    {
     "name": "stdout",
     "output_type": "stream",
     "text": [
      "planeta(nombre='mercurio', numero=1)\n",
      "mercurio 1\n",
      "venus __main__.planeta[1]\n",
      "campos de la tupla: ('nombre', 'numero')\n"
     ]
    }
   ],
   "source": [
    "#Se deb importar la libreria para hacer uso de namedtuple\n",
    "from collections import namedtuple\n",
    "\n",
    "#se crea la tupla con nombre\n",
    "#El primer argumento es el nombre de la tupla, mientras que el segundo argumento son los campos \n",
    "#p es la referencia de la tupla\n",
    "\n",
    "planeta = namedtuple('planeta', ['nombre', 'numero'])\n",
    "\n",
    "#se crea el planeta 1 y se agregan a la tupla los valores correspondientes a los campos\n",
    "planeta1 = planeta('mercurio', 1)\n",
    "print(planeta1)\n",
    "\n",
    "#se crea planeta 2\n",
    "planeta2 =planeta('venus', 2)\n",
    "\n",
    "#se imprimen los valores de los campos\n",
    "#usando la referencia se llama a cada uno de sus campos \n",
    "print(planeta1.nombre, planeta1.numero)\n",
    "#se obtienen los valores por elorden de los campos\n",
    "print(planeta2[0], planeta[1])\n",
    "\n",
    "print('campos de la tupla: {}'.format(planeta1._fields))"
   ]
  },
  {
   "cell_type": "markdown",
   "id": "5e55abe2",
   "metadata": {},
   "source": [
    "<h2>Diccionarios<h2>"
   ]
  },
  {
   "cell_type": "code",
   "execution_count": 29,
   "id": "cd3809c5",
   "metadata": {},
   "outputs": [
    {
     "name": "stdout",
     "output_type": "stream",
     "text": [
      "{'hidrogeno': 1, 'helio': 2, 'carbon': 6}\n",
      "1\n"
     ]
    }
   ],
   "source": [
    "#Creando el diccionario\n",
    "elementos = {'hidrogeno':1, 'helio': 2, 'carbon': 6}\n",
    "\n",
    "#El momento de la impresion pueden aparecer en diferente orden del introducido\n",
    "print(elementos)\n",
    "print(elementos['hidrogeno'])"
   ]
  },
  {
   "cell_type": "code",
   "execution_count": 30,
   "id": "530fa6cf",
   "metadata": {
    "scrolled": true
   },
   "outputs": [
    {
     "name": "stdout",
     "output_type": "stream",
     "text": [
      "{'hidrogeno': 1, 'helio': 2, 'carbon': 6, 'litio': 3, 'nitrogeno': 8}\n"
     ]
    }
   ],
   "source": [
    "#se pueden agregar elementos al diccionario\n",
    "elementos['litio']=3\n",
    "elementos['nitrogeno']=8\n",
    "\n",
    "print(elementos)"
   ]
  },
  {
   "cell_type": "code",
   "execution_count": 32,
   "id": "4441aad4",
   "metadata": {},
   "outputs": [
    {
     "name": "stdout",
     "output_type": "stream",
     "text": [
      "{'H': {'name': 'Hydrogen', 'number': 1, 'weight': 1.00794}, 'He': {'name': 'Helium', 'number': 2, 'weight': 4.002602}}\n"
     ]
    }
   ],
   "source": [
    "#creando un nuevo diccionario\n",
    "elementos2 = {}\n",
    "elementos2['H']={'name':'Hydrogen', 'number':1, 'weight': 1.00794}\n",
    "elementos2['He']={'name': 'Helium', 'number':2, 'weight':4.002602}\n",
    "\n",
    "print(elementos2)"
   ]
  },
  {
   "cell_type": "code",
   "execution_count": 33,
   "id": "3a1adc2e",
   "metadata": {},
   "outputs": [
    {
     "name": "stdout",
     "output_type": "stream",
     "text": [
      "{'name': 'Hydrogen', 'number': 1, 'weight': 1.00794}\n",
      "Hydrogen\n",
      "1\n",
      "4.3\n"
     ]
    }
   ],
   "source": [
    "#imprimiendo los datos de un elemento del diccionario\n",
    "print(elementos2['H'])\n",
    "print(elementos2['H']['name'])\n",
    "print(elementos2['H']['number'])\n",
    "elementos2['H']['weight']=4.30 #Cambiando el valor de un elemento\n",
    "print(elementos2['H']['weight'])"
   ]
  },
  {
   "cell_type": "code",
   "execution_count": 34,
   "id": "3eba2248",
   "metadata": {},
   "outputs": [
    {
     "name": "stdout",
     "output_type": "stream",
     "text": [
      "{'name': 'Hydrogen', 'number': 1, 'weight': 4.3, 'gas noble': True}\n"
     ]
    }
   ],
   "source": [
    "#Agregando elementos a una llave \n",
    "elementos2['H'].update({'gas noble':True})\n",
    "print(elementos2['H'])"
   ]
  },
  {
   "cell_type": "code",
   "execution_count": 35,
   "id": "f1c87b56",
   "metadata": {},
   "outputs": [
    {
     "name": "stdout",
     "output_type": "stream",
     "text": [
      "dict_items([('H', {'name': 'Hydrogen', 'number': 1, 'weight': 4.3, 'gas noble': True}), ('He', {'name': 'Helium', 'number': 2, 'weight': 4.002602})])\n",
      "dict_keys(['H', 'He'])\n"
     ]
    }
   ],
   "source": [
    "#muestra todos los elementos del diccionario\n",
    "print(elementos2.items())\n",
    "\n",
    "#muestra todas las llaves del diccionario\n",
    "print(elementos2.keys())"
   ]
  },
  {
   "cell_type": "markdown",
   "id": "f9fb61d1",
   "metadata": {},
   "source": [
    "<h2>Funciones<h2>"
   ]
  },
  {
   "cell_type": "code",
   "execution_count": 38,
   "id": "3680ed6a",
   "metadata": {},
   "outputs": [],
   "source": [
    "#Las funciones pueden recibir n numeros de parametros, no se nesecita indicar el tipo\n",
    "def imprime_nombre(nombre):\n",
    "    print(\"Hola \"+nombre)#Las cadenas se pueden concatenar con el +"
   ]
  },
  {
   "cell_type": "code",
   "execution_count": 39,
   "id": "c8e136cf",
   "metadata": {},
   "outputs": [
    {
     "name": "stdout",
     "output_type": "stream",
     "text": [
      "Hola JJ\n"
     ]
    }
   ],
   "source": [
    "#llamada a la función\n",
    "imprime_nombre(\"JJ\")"
   ]
  },
  {
   "cell_type": "code",
   "execution_count": 40,
   "id": "b725cfd9",
   "metadata": {},
   "outputs": [],
   "source": [
    "#Definiendo una funcion que regresa el cuadrado de un numero\n",
    "def cuadrado(x):\n",
    "    return x**2"
   ]
  },
  {
   "cell_type": "code",
   "execution_count": 41,
   "id": "6f2ff9f2",
   "metadata": {},
   "outputs": [
    {
     "name": "stdout",
     "output_type": "stream",
     "text": [
      "El cuadrado de 5 es 25\n"
     ]
    }
   ],
   "source": [
    "x=5\n",
    "#La función format() sirve para convertir los parametros que recibe, en cadenas; estos valores:\n",
    "#por las llaves cadena.\n",
    "print(\"El cuadrado de {} es {}\".format(x, cuadrado(x))) #La funcion cuadrado( regres un valor)"
   ]
  },
  {
   "cell_type": "code",
   "execution_count": 42,
   "id": "a46504b8",
   "metadata": {},
   "outputs": [],
   "source": [
    "#DEfiniendo una función que regrese más de una función\n",
    "def varios(x):\n",
    "    return x**2, x**3, x**4"
   ]
  },
  {
   "cell_type": "code",
   "execution_count": 44,
   "id": "3946cfe8",
   "metadata": {},
   "outputs": [
    {
     "name": "stdout",
     "output_type": "stream",
     "text": [
      "4 8 16\n"
     ]
    }
   ],
   "source": [
    "#Los valores que regresa la funcion pueden ser guardados en variables separadas por ,\n",
    "val1, val2, val3 = varios(2)\n",
    "print(\"{} {} {}\".format(val1, val2, val3))"
   ]
  },
  {
   "cell_type": "code",
   "execution_count": 45,
   "id": "1094ab00",
   "metadata": {},
   "outputs": [],
   "source": [
    "#Funcion con un parametro con un vlor por defecto\n",
    "def cuadrado_default(x=3):\n",
    "    return x**2"
   ]
  },
  {
   "cell_type": "code",
   "execution_count": 46,
   "id": "04f0d3c1",
   "metadata": {},
   "outputs": [
    {
     "data": {
      "text/plain": [
       "9"
      ]
     },
     "execution_count": 46,
     "metadata": {},
     "output_type": "execute_result"
    }
   ],
   "source": [
    "#Como la funcion tiene un valor por default, si se manda llamar la funcion sin especificar el \n",
    "#tiene por defecto\n",
    "cuadrado_default()"
   ]
  },
  {
   "cell_type": "code",
   "execution_count": 47,
   "id": "fcb8eff3",
   "metadata": {},
   "outputs": [
    {
     "name": "stdout",
     "output_type": "stream",
     "text": [
      "4 16\n"
     ]
    }
   ],
   "source": [
    "#Cuando una funcion regresa más de un valor, se puede usar el operando _, para no guradar el valor no deseado\n",
    "val4, _, val5=varios(2)\n",
    "print(\"{} {}\".format(val4, val5))"
   ]
  },
  {
   "cell_type": "markdown",
   "id": "16ccd50d",
   "metadata": {},
   "source": [
    "<h2>Variables globales<h2>"
   ]
  },
  {
   "cell_type": "code",
   "execution_count": 48,
   "id": "cec9f1d2",
   "metadata": {},
   "outputs": [],
   "source": [
    "#Se crea ua variable en el espacio global de nombres \n",
    "vg = 'Global'"
   ]
  },
  {
   "cell_type": "code",
   "execution_count": 49,
   "id": "399cdf56",
   "metadata": {},
   "outputs": [],
   "source": [
    "#Se crea una función que imprime la variable global\n",
    "def funcion_v1():\n",
    "    print(vg)\n"
   ]
  },
  {
   "cell_type": "code",
   "execution_count": 50,
   "id": "0ebfc738",
   "metadata": {},
   "outputs": [
    {
     "name": "stdout",
     "output_type": "stream",
     "text": [
      "Global\n",
      "Global\n"
     ]
    }
   ],
   "source": [
    "#Llamada a la funcion de que imprime la variable global \n",
    "funcion_v1()\n",
    "#imprime la varible global \n",
    "print(vg)\n"
   ]
  },
  {
   "cell_type": "code",
   "execution_count": 51,
   "id": "ff2a61dc",
   "metadata": {},
   "outputs": [],
   "source": [
    "#Se crea una variable local que tiene el mismo nombre que la variable global\n",
    "def funcion_v2():\n",
    "    vg = \"Local\"\n",
    "    print(vg)\n"
   ]
  },
  {
   "cell_type": "code",
   "execution_count": 52,
   "id": "2fb024ca",
   "metadata": {},
   "outputs": [
    {
     "name": "stdout",
     "output_type": "stream",
     "text": [
      "Local\n",
      "Global\n"
     ]
    }
   ],
   "source": [
    "#Llama a la funcion\n",
    "funcion_v2()\n",
    "\n",
    "#imprime la variable global \n",
    "print(vg)"
   ]
  },
  {
   "cell_type": "code",
   "execution_count": 53,
   "id": "dedb29a6",
   "metadata": {},
   "outputs": [],
   "source": [
    "#Se trata de imprimir el valor de la variable global, a diferencia de la funcion_v1(),\n",
    "#se creó un espacio local de la funcion_v3() una variable con el mismo nombre \n",
    "#por lo qye se reemplaza la varible local\n",
    "def funcion_v3():\n",
    "    print(vg)\n",
    "    vg=\"Local\"\n",
    "    print(vg)"
   ]
  },
  {
   "cell_type": "code",
   "execution_count": 54,
   "id": "e43db96b",
   "metadata": {},
   "outputs": [
    {
     "ename": "UnboundLocalError",
     "evalue": "cannot access local variable 'vg' where it is not associated with a value",
     "output_type": "error",
     "traceback": [
      "\u001b[0;31m---------------------------------------------------------------------------\u001b[0m",
      "\u001b[0;31mUnboundLocalError\u001b[0m                         Traceback (most recent call last)",
      "Cell \u001b[0;32mIn[54], line 2\u001b[0m\n\u001b[1;32m      1\u001b[0m \u001b[38;5;66;03m#Como se tiene una variable local y no se le ha asignado un valor, se genera un error\u001b[39;00m\n\u001b[0;32m----> 2\u001b[0m \u001b[43mfuncion_v3\u001b[49m\u001b[43m(\u001b[49m\u001b[43m)\u001b[49m\n",
      "Cell \u001b[0;32mIn[53], line 5\u001b[0m, in \u001b[0;36mfuncion_v3\u001b[0;34m()\u001b[0m\n\u001b[1;32m      4\u001b[0m \u001b[38;5;28;01mdef\u001b[39;00m \u001b[38;5;21mfuncion_v3\u001b[39m():\n\u001b[0;32m----> 5\u001b[0m     \u001b[38;5;28mprint\u001b[39m(\u001b[43mvg\u001b[49m)\n\u001b[1;32m      6\u001b[0m     vg\u001b[38;5;241m=\u001b[39m\u001b[38;5;124m\"\u001b[39m\u001b[38;5;124mLocal\u001b[39m\u001b[38;5;124m\"\u001b[39m\n\u001b[1;32m      7\u001b[0m     \u001b[38;5;28mprint\u001b[39m(vg)\n",
      "\u001b[0;31mUnboundLocalError\u001b[0m: cannot access local variable 'vg' where it is not associated with a value"
     ]
    }
   ],
   "source": [
    "#Como se tiene una variable local y no se le ha asignado un valor, se genera un error\n",
    "funcion_v3()"
   ]
  },
  {
   "cell_type": "code",
   "execution_count": 55,
   "id": "72ada8c9",
   "metadata": {},
   "outputs": [],
   "source": [
    "#Par resolver el problema anterior y especificar que se quiere hacer uso de la \n",
    "#varibale global dentro de la funcion_v4, se tiene que agregar la \n",
    "#palabra reservada global\n",
    "def funcion_v4():\n",
    "    global vg\n",
    "    print(vg)\n",
    "    vg=\"Local\"\n",
    "    print(vg)"
   ]
  },
  {
   "cell_type": "code",
   "execution_count": 58,
   "id": "d4302d04",
   "metadata": {},
   "outputs": [
    {
     "name": "stdout",
     "output_type": "stream",
     "text": [
      "Local\n",
      "Local\n",
      "Local\n"
     ]
    }
   ],
   "source": [
    "#Al momento de ejecutar ka funcion se imprime el valor que se tenia asignado vg\n",
    "#antes de ser modificado por la funcion. Después de asignar el vlor, éste es impreso\n",
    "funcion_v4()\n",
    "\n",
    "#se imprime la varibale global con su valor modificado \n",
    "print(vg)"
   ]
  },
  {
   "cell_type": "markdown",
   "id": "74e589f1",
   "metadata": {},
   "source": [
    "<h2>Estructuras de control selecticas<h2>"
   ]
  },
  {
   "cell_type": "markdown",
   "id": "87b64f31",
   "metadata": {},
   "source": [
    "<h3>if<h3>"
   ]
  },
  {
   "cell_type": "code",
   "execution_count": 59,
   "id": "423fc8cb",
   "metadata": {},
   "outputs": [],
   "source": [
    "#Sirve para ejecutar código dependiendo del resulatdo de una condicion\n",
    "\n",
    "def obtenerMayor(param1, param2):\n",
    "    if param1<param2:\n",
    "        print(\"{} es mayor que {}\".format(param2, param1))"
   ]
  },
  {
   "cell_type": "code",
   "execution_count": 60,
   "id": "99ffc456",
   "metadata": {},
   "outputs": [
    {
     "name": "stdout",
     "output_type": "stream",
     "text": [
      "7 es mayor que 5\n"
     ]
    }
   ],
   "source": [
    "obtenerMayor(5, 7)"
   ]
  },
  {
   "cell_type": "code",
   "execution_count": 61,
   "id": "44b5d265",
   "metadata": {},
   "outputs": [
    {
     "name": "stdout",
     "output_type": "stream",
     "text": [
      "True\n"
     ]
    }
   ],
   "source": [
    "#Se puede encadenar mas de una condicion sin tener que agregar un operador boleano\n",
    "x = y = z = 3\n",
    "if x == y == z:\n",
    "    print(True)"
   ]
  },
  {
   "cell_type": "markdown",
   "id": "6af6b6ee",
   "metadata": {},
   "source": [
    "<h3> if-else <h3>"
   ]
  },
  {
   "cell_type": "code",
   "execution_count": 64,
   "id": "f0a8adf1",
   "metadata": {},
   "outputs": [],
   "source": [
    "#Se usan para dar una opcion en el caso de que la condicion  no se cumpla\n",
    "def obtenerMayor2(param1, param2):\n",
    "    if param1<param2:\n",
    "        return param2\n",
    "    else:\n",
    "        return param1\n"
   ]
  },
  {
   "cell_type": "code",
   "execution_count": 65,
   "id": "43ddf56b",
   "metadata": {},
   "outputs": [
    {
     "name": "stdout",
     "output_type": "stream",
     "text": [
      "El mayor es 11\n"
     ]
    }
   ],
   "source": [
    "print(\"El mayor es {}\".format(obtenerMayor2(11, 6)))"
   ]
  },
  {
   "cell_type": "markdown",
   "id": "bc2c9aa7",
   "metadata": {},
   "source": [
    "<h3> if-elif-else <h3>"
   ]
  },
  {
   "cell_type": "code",
   "execution_count": 66,
   "id": "ff37fb83",
   "metadata": {},
   "outputs": [],
   "source": [
    "def numeros(num):\n",
    "    if num==1:\n",
    "        print(\"El número es 1\")\n",
    "    elif num ==2:\n",
    "        print(\"El número es 2\")\n",
    "    elif num ==3:\n",
    "        print(\"El número es 3\")\n",
    "    elif num ==4:\n",
    "        print(\"El número es 4\")\n",
    "    else:\n",
    "        print(\"No hay opcion\")"
   ]
  },
  {
   "cell_type": "code",
   "execution_count": 67,
   "id": "8d31cef8",
   "metadata": {},
   "outputs": [
    {
     "name": "stdout",
     "output_type": "stream",
     "text": [
      "El número es 2\n"
     ]
    }
   ],
   "source": [
    "numeros(2)"
   ]
  },
  {
   "cell_type": "code",
   "execution_count": 68,
   "id": "cee6950b",
   "metadata": {},
   "outputs": [
    {
     "name": "stdout",
     "output_type": "stream",
     "text": [
      "No hay opcion\n"
     ]
    }
   ],
   "source": [
    "numeros(5)"
   ]
  },
  {
   "cell_type": "code",
   "execution_count": 70,
   "id": "64845275",
   "metadata": {},
   "outputs": [],
   "source": [
    "#En algunos casos se puede evitar la repiticion de if-elif-else\n",
    "#La      tiene las opciones validas\n",
    "def numeros_idiom(num):\n",
    "    if num in (1, 2, 3, 4):\n",
    "        print(\"Tu número es {}\".format(num))\n",
    "    else:\n",
    "        print(\"{} no es una opcion\".format(num))"
   ]
  },
  {
   "cell_type": "code",
   "execution_count": 71,
   "id": "4c3f35ce",
   "metadata": {},
   "outputs": [
    {
     "name": "stdout",
     "output_type": "stream",
     "text": [
      "Tu número es 2\n"
     ]
    }
   ],
   "source": [
    "numeros_idiom(2)"
   ]
  },
  {
   "cell_type": "code",
   "execution_count": 72,
   "id": "fce46f0b",
   "metadata": {},
   "outputs": [
    {
     "name": "stdout",
     "output_type": "stream",
     "text": [
      "5 no es una opcion\n"
     ]
    }
   ],
   "source": [
    "numeros_idiom(5)"
   ]
  },
  {
   "cell_type": "code",
   "execution_count": 73,
   "id": "5c2fdc08",
   "metadata": {},
   "outputs": [],
   "source": [
    "#Estructura de control selectiva anidada\n",
    "def obtenerMasGrande(a, b, c):\n",
    "    if a>b:\n",
    "        if a>c:\n",
    "            return a\n",
    "        else:\n",
    "            return c\n",
    "    else:\n",
    "        if b>c:\n",
    "            return b\n",
    "        else:\n",
    "            return c"
   ]
  },
  {
   "cell_type": "code",
   "execution_count": 74,
   "id": "01b0ee47",
   "metadata": {},
   "outputs": [
    {
     "name": "stdout",
     "output_type": "stream",
     "text": [
      "El valor mas grande es 11\n"
     ]
    }
   ],
   "source": [
    "print(\"El valor mas grande es {}\".format(obtenerMasGrande(7, 11, 3)))"
   ]
  },
  {
   "cell_type": "markdown",
   "id": "ea088c24",
   "metadata": {},
   "source": [
    "<h2>Estructuras de control repetitivas<h2>"
   ]
  },
  {
   "cell_type": "markdown",
   "id": "11911518",
   "metadata": {},
   "source": [
    "<h3> Ciclo while <h3>"
   ]
  },
  {
   "cell_type": "code",
   "execution_count": 2,
   "id": "d6292f65",
   "metadata": {},
   "outputs": [],
   "source": [
    "#Ejemplo 1\n",
    "def cuenta(limite):\n",
    "    i=limite\n",
    "    while True:\n",
    "        print(i)\n",
    "        i=i-1\n",
    "        if i == 0:\n",
    "            break #rompiendo el ciclo "
   ]
  },
  {
   "cell_type": "code",
   "execution_count": 3,
   "id": "99fa6df4",
   "metadata": {},
   "outputs": [
    {
     "name": "stdout",
     "output_type": "stream",
     "text": [
      "10\n",
      "9\n",
      "8\n",
      "7\n",
      "6\n",
      "5\n",
      "4\n",
      "3\n",
      "2\n",
      "1\n"
     ]
    }
   ],
   "source": [
    "cuenta(10)"
   ]
  },
  {
   "cell_type": "code",
   "execution_count": 4,
   "id": "81ef796a",
   "metadata": {},
   "outputs": [],
   "source": [
    "#Ejemplo 2\n",
    "def factorial(n):\n",
    "    i=1\n",
    "    tmp=1\n",
    "    while 1<n*i:\n",
    "        tmp=tmp*i\n",
    "        i=i+1\n",
    "    return tmp"
   ]
  },
  {
   "cell_type": "code",
   "execution_count": null,
   "id": "3791746a",
   "metadata": {},
   "outputs": [],
   "source": [
    "print(factorial(4))"
   ]
  },
  {
   "cell_type": "markdown",
   "id": "1a7ab77f",
   "metadata": {},
   "source": [
    "<h2>Ciclo for<h2>"
   ]
  },
  {
   "cell_type": "code",
   "execution_count": null,
   "id": "0f9f2f7d",
   "metadata": {},
   "outputs": [],
   "source": []
  }
 ],
 "metadata": {
  "kernelspec": {
   "display_name": "Python 3 (ipykernel)",
   "language": "python",
   "name": "python3"
  },
  "language_info": {
   "codemirror_mode": {
    "name": "ipython",
    "version": 3
   },
   "file_extension": ".py",
   "mimetype": "text/x-python",
   "name": "python",
   "nbconvert_exporter": "python",
   "pygments_lexer": "ipython3",
   "version": "3.11.3"
  }
 },
 "nbformat": 4,
 "nbformat_minor": 5
}
